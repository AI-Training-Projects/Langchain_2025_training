{
 "cells": [
  {
   "cell_type": "markdown",
   "metadata": {},
   "source": [
    "# Langchain Training Setup Utils\n",
    "\n",
    "This notebook has code to help trainees setup and utilize API KEYS for running the Langchain base repo training examples.  "
   ]
  },
  {
   "cell_type": "markdown",
   "metadata": {},
   "source": [
    "# Creating a Reusable Environment Configuration Module\n",
    "\n",
    "Let's create a dedicated configuration module that can be imported across your project:\n",
    "\n"
   ]
  },
  {
   "cell_type": "code",
   "execution_count": null,
   "metadata": {},
   "outputs": [],
   "source": [
    "from dotenv import load_dotenv\n",
    "import os\n",
    "from typing import Dict, Optional, List\n",
    "\n",
    "class EnvConfig:\n",
    "    \"\"\"Environment configuration manager for API keys and settings\"\"\"\n",
    "    \n",
    "    def __init__(self, required_keys: List[str] = None):\n",
    "        \"\"\"\n",
    "        Initialize environment configuration\n",
    "        Args:\n",
    "            required_keys: List of required environment variable names\n",
    "        \"\"\"\n",
    "        self.required_keys = required_keys or [\n",
    "            'OPENAI_API_KEY',  # Default required key\n",
    "        ]\n",
    "        self._load_env()\n",
    "        \n",
    "    def _load_env(self) -> None:\n",
    "        \"\"\"Load environment variables from .env file\"\"\"\n",
    "        load_dotenv()\n",
    "        \n",
    "        # Check for missing required keys\n",
    "        missing = [key for key in self.required_keys \n",
    "                  if not os.getenv(key)]\n",
    "        if missing:\n",
    "            raise ValueError(f\"Missing required environment variables: {missing}\")\n",
    "            \n",
    "    def get_key(self, key_name: str) -> Optional[str]:\n",
    "        \"\"\"Get specific environment variable\"\"\"\n",
    "        return os.getenv(key_name)\n",
    "    \n",
    "    def get_all_keys(self) -> Dict[str, Optional[str]]:\n",
    "        \"\"\"Get all configured environment variables\"\"\"\n",
    "        return {key: os.getenv(key) for key in self.required_keys}\n",
    "\n",
    "# Create a default instance\n",
    "env = EnvConfig()"
   ]
  },
  {
   "cell_type": "markdown",
   "metadata": {},
   "source": [
    "\n",
    "\n",
    "## Usage Examples\n",
    "\n",
    "### In Jupyter Notebooks:\n"
   ]
  },
  {
   "cell_type": "code",
   "execution_count": null,
   "metadata": {},
   "outputs": [],
   "source": [
    "# At the top of your notebook\n",
    "from utils.env_config import env\n",
    "\n",
    "# Get specific key\n",
    "openai_key = env.get_key('OPENAI_API_KEY')\n",
    "\n",
    "# Or with custom required keys\n",
    "from utils.env_config import EnvConfig\n",
    "custom_env = EnvConfig(['OPENAI_API_KEY', 'SERPAPI_API_KEY'])"
   ]
  },
  {
   "cell_type": "markdown",
   "metadata": {},
   "source": [
    "\n",
    "\n",
    "### In Python Modules:\n"
   ]
  },
  {
   "cell_type": "code",
   "execution_count": null,
   "metadata": {},
   "outputs": [],
   "source": [
    "from utils.env_config import env\n",
    "\n",
    "def your_function():\n",
    "    api_key = env.get_key('OPENAI_API_KEY')\n",
    "    # Use the key..."
   ]
  },
  {
   "cell_type": "markdown",
   "metadata": {},
   "source": [
    "\n",
    "\n",
    "### With Custom Keys:\n"
   ]
  },
  {
   "cell_type": "code",
   "execution_count": null,
   "metadata": {},
   "outputs": [],
   "source": [
    "from utils.env_config import EnvConfig\n",
    "\n",
    "# Create instance with custom required keys\n",
    "env = EnvConfig([\n",
    "    'OPENAI_API_KEY',\n",
    "    'SERPAPI_API_KEY',\n",
    "    'PINECONE_API_KEY',\n",
    "    'CUSTOM_API_KEY'\n",
    "])\n",
    "\n",
    "# Get all keys as dictionary\n",
    "all_keys = env.get_all_keys()"
   ]
  },
  {
   "cell_type": "markdown",
   "metadata": {},
   "source": [
    "\n",
    "\n",
    "## Project Structure\n"
   ]
  },
  {
   "cell_type": "code",
   "execution_count": null,
   "metadata": {},
   "outputs": [],
   "source": [
    "your_project/\n",
    "├── .env                  # Environment variables\n",
    "├── utils/\n",
    "│   └── env_config.py    # Reusable configuration module\n",
    "├── notebooks/\n",
    "│   └── your_notebook.ipynb\n",
    "└── other_modules/\n",
    "    └── your_module.py"
   ]
  },
  {
   "cell_type": "markdown",
   "metadata": {},
   "source": [
    "\n",
    "\n",
    "This approach provides:\n",
    "- Single source of truth for environment configuration\n",
    "- Reusable across notebooks and modules\n",
    "- Type hints for better IDE support\n",
    "- Customizable required keys\n",
    "- Error handling for missing keys\n",
    "- Clean interface for accessing environment variables\n",
    "\n",
    "Remember to keep your `.env` file in the project root and add it to .gitignore."
   ]
  },
  {
   "cell_type": "markdown",
   "metadata": {},
   "source": []
  }
 ],
 "metadata": {
  "language_info": {
   "name": "python"
  }
 },
 "nbformat": 4,
 "nbformat_minor": 2
}
