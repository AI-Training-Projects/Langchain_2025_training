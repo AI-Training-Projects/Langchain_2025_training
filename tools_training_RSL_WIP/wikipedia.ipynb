{
 "cells": [
  {
   "cell_type": "markdown",
   "id": "245a954a",
   "metadata": {},
   "source": [
    "# Wikipedia\n",
    "\n",
    ">[Wikipedia](https://wikipedia.org/) is a multilingual free online encyclopedia written and maintained by a community of volunteers, known as Wikipedians, through open collaboration and using a wiki-based editing system called MediaWiki. `Wikipedia` is the largest and most-read reference work in history.\n",
    "\n",
    "First, you need to install `wikipedia` python package."
   ]
  },
  {
   "cell_type": "code",
   "execution_count": null,
   "id": "961b3689",
   "metadata": {
    "vscode": {
     "languageId": "shellscript"
    }
   },
   "outputs": [],
   "source": [
    "#%pip install --upgrade --quiet  wikipedia"
   ]
  },
  {
   "cell_type": "code",
   "execution_count": 1,
   "id": "822532ce",
   "metadata": {
    "vscode": {
     "languageId": "shellscript"
    }
   },
   "outputs": [],
   "source": [
    "import sys\n",
    "import os\n",
    "\n",
    "# Add the project root directory to Python path\n",
    "project_root = os.path.dirname(os.path.dirname(os.path.abspath('')))\n",
    "if project_root not in sys.path:\n",
    "    sys.path.append(project_root)"
   ]
  },
  {
   "cell_type": "code",
   "execution_count": 2,
   "id": "50fb574b",
   "metadata": {
    "vscode": {
     "languageId": "shellscript"
    }
   },
   "outputs": [
    {
     "data": {
      "text/plain": [
       "'c:\\\\Users\\\\PowerUser\\\\Documents\\\\Github_NTAI_Apps'"
      ]
     },
     "execution_count": 2,
     "metadata": {},
     "output_type": "execute_result"
    }
   ],
   "source": [
    "project_root"
   ]
  },
  {
   "cell_type": "code",
   "execution_count": 9,
   "id": "7098c225",
   "metadata": {
    "vscode": {
     "languageId": "shellscript"
    }
   },
   "outputs": [],
   "source": [
    "import sys\n",
    "import os\n",
    "\n",
    "# Get absolute path to utils directory\n",
    "utils_path = os.path.abspath(os.path.join(os.path.dirname(''), '..', 'utils'))\n",
    "if utils_path not in sys.path:\n",
    "    sys.path.append(utils_path)\n",
    "\n",
    "# Now import the decorators\n",
    "from decorator_utils import timer_decorator, function_logger"
   ]
  },
  {
   "cell_type": "code",
   "execution_count": 10,
   "id": "f274c947",
   "metadata": {
    "vscode": {
     "languageId": "shellscript"
    }
   },
   "outputs": [
    {
     "data": {
      "text/plain": [
       "'c:\\\\Users\\\\PowerUser\\\\Documents\\\\Github_NTAI_Apps\\\\00_LangChain_2025\\\\utils'"
      ]
     },
     "execution_count": 10,
     "metadata": {},
     "output_type": "execute_result"
    }
   ],
   "source": [
    "utils_path"
   ]
  },
  {
   "cell_type": "code",
   "execution_count": null,
   "id": "b7decbbe",
   "metadata": {
    "vscode": {
     "languageId": "shellscript"
    }
   },
   "outputs": [
    {
     "name": "stdout",
     "output_type": "stream",
     "text": [
      "Function 'test_function' took 0.0106 seconds to execute\n"
     ]
    }
   ],
   "source": [
    "# Test the decorators\n",
    "@timer_decorator\n",
    "@function_logger\n",
    "def test_function(x, y):\n",
    "    \"\"\"Test function to demonstrate decorators\n",
    "    \n",
    "    Args:\n",
    "        x (int): First number\n",
    "        y (int): Second number\n",
    "        \n",
    "    Returns:\n",
    "        int: Product of x and y\n",
    "    \"\"\"\n",
    "    return x * y\n",
    "\n",
    "# Test the function\n",
    "result = test_function(5, 3)"
   ]
  },
  {
   "cell_type": "code",
   "execution_count": null,
   "id": "80747abd",
   "metadata": {
    "vscode": {
     "languageId": "shellscript"
    }
   },
   "outputs": [],
   "source": [
    "\n",
    "# With current file in SAME directory as the decorator_utils.py file, use this following import\n",
    "from utils.decorator_utils import timer_decorator, function_logger\n",
    "\n",
    "# @timer_decorator\n",
    "# @function_logger"
   ]
  },
  {
   "cell_type": "code",
   "execution_count": null,
   "id": "8d32b39a",
   "metadata": {},
   "outputs": [],
   "source": [
    "from langchain_community.tools import WikipediaQueryRun\n",
    "from langchain_community.utilities import WikipediaAPIWrapper"
   ]
  },
  {
   "cell_type": "code",
   "execution_count": null,
   "id": "2a50dd27",
   "metadata": {},
   "outputs": [],
   "source": [
    "wikipedia = WikipediaQueryRun(api_wrapper=WikipediaAPIWrapper())"
   ]
  },
  {
   "cell_type": "code",
   "execution_count": null,
   "id": "34bb5968",
   "metadata": {},
   "outputs": [],
   "source": [
    "wikipedia.run(\"HUNTER X HUNTER\")"
   ]
  },
  {
   "cell_type": "code",
   "execution_count": null,
   "id": "9ebe2531",
   "metadata": {},
   "outputs": [],
   "source": [
    "wikipedia.run(\"Autogen\")"
   ]
  },
  {
   "cell_type": "code",
   "execution_count": null,
   "id": "2c4209e0",
   "metadata": {},
   "outputs": [],
   "source": [
    "wikipedia.run(\"Barack Obama\", features=\"html.parser\")"
   ]
  },
  {
   "cell_type": "code",
   "execution_count": null,
   "id": "d295cc7a",
   "metadata": {},
   "outputs": [],
   "source": []
  }
 ],
 "metadata": {
  "kernelspec": {
   "display_name": "LangChain_apps",
   "language": "python",
   "name": "python3"
  },
  "language_info": {
   "codemirror_mode": {
    "name": "ipython",
    "version": 3
   },
   "file_extension": ".py",
   "mimetype": "text/x-python",
   "name": "python",
   "nbconvert_exporter": "python",
   "pygments_lexer": "ipython3",
   "version": "3.12.9"
  }
 },
 "nbformat": 4,
 "nbformat_minor": 5
}
